{
  "nbformat": 4,
  "nbformat_minor": 0,
  "metadata": {
    "colab": {
      "provenance": []
    },
    "kernelspec": {
      "name": "python3",
      "display_name": "Python 3"
    },
    "language_info": {
      "name": "python"
    }
  },
  "cells": [
    {
      "cell_type": "code",
      "execution_count": null,
      "metadata": {
        "colab": {
          "base_uri": "https://localhost:8080/"
        },
        "id": "r06TorYnk63d",
        "outputId": "47ec9ea0-1bf4-4ea0-de4e-a311ffbb1728"
      },
      "outputs": [
        {
          "output_type": "stream",
          "name": "stdout",
          "text": [
            "give me an number to check odd or not 12\n",
            "the no is even\n",
            "give me an YEAR to check LEAP or not 2024\n",
            "IT IS LEAP YEAR\n",
            "age of ram 12\n",
            "age of ajay 13\n",
            "age of shyam 14\n",
            "the youngest age is: 12\n"
          ]
        }
      ],
      "source": [
        "# WRITE A PROGRAM TO ODD OR NOT\n",
        "\n",
        "x=int(input(\"give me an number to check odd or not \"))\n",
        "\n",
        "if x % 2 == 0:\n",
        "  print(\"the no is even\")\n",
        "else:\n",
        "  print(\"the no is odd\")\n",
        "\n",
        "\n",
        "\n",
        "x=int(input(\"give me an YEAR to check LEAP or not \"))\n",
        "\n",
        "if x % 4 == 0 and x % 100 != 0 or x % 400 == 0:\n",
        "  print(\"IT IS LEAP YEAR\")\n",
        "else:\n",
        "  print(\"NOT AN LEAP YEAR\")\n",
        "\n",
        "x=int(input(\"age of ram \"))\n",
        "y=int(input(\"age of ajay \"))\n",
        "z=int(input(\"age of shyam \"))\n",
        "\n",
        "if x < y and x < z:\n",
        "  print(f\"the youngest age is: {x}\")\n",
        "elif y < x and y < z:\n",
        "  print(f\"the youngest age is: {y}\")\n",
        "else:\n",
        "  print(f\"the youngest age is: {z}\")\n",
        "\n",
        "\n",
        "\n",
        "\n",
        "\n"
      ]
    },
    {
      "cell_type": "code",
      "source": [],
      "metadata": {
        "id": "eliWA8AmlldO"
      },
      "execution_count": null,
      "outputs": []
    }
  ]
}