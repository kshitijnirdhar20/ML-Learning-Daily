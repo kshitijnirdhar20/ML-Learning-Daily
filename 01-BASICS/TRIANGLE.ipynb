{
  "nbformat": 4,
  "nbformat_minor": 0,
  "metadata": {
    "colab": {
      "provenance": []
    },
    "kernelspec": {
      "name": "python3",
      "display_name": "Python 3"
    },
    "language_info": {
      "name": "python"
    }
  },
  "cells": [
    {
      "cell_type": "code",
      "execution_count": null,
      "metadata": {
        "colab": {
          "base_uri": "https://localhost:8080/"
        },
        "id": "XveEr4CK1Ukk",
        "outputId": "6e8e7284-41d3-4d5d-9f82-7c8f17084fcd"
      },
      "outputs": [
        {
          "output_type": "stream",
          "name": "stdout",
          "text": [
            "Enter the length of the first side: 10\n",
            "Enter the length of the second side: 15\n",
            "Enter the length of the third side: 10\n",
            "The triangle is valid.\n"
          ]
        }
      ],
      "source": [
        "\n",
        "a = float(input(\"Enter the length of the first side: \"))\n",
        "b = float(input(\"Enter the length of the second side: \"))\n",
        "c = float(input(\"Enter the length of the third side: \"))\n",
        "\n",
        "if a + b > c and a + c > b and b + c > a:\n",
        "    print(\"The triangle is valid.\")\n",
        "else:\n",
        "    print(\"The triangle is not valid.\")\n",
        "\n",
        "\n"
      ]
    },
    {
      "cell_type": "code",
      "source": [
        "#CHECK TRIANGLE IS SCALENE/ISOSCELES/EQUIVALENT\n",
        "\n",
        "\n",
        "\n",
        "print(\"CHECK THE TRIANGLE IS EQUIVALENT/ISOSCELES\")\n",
        "\n",
        "a = float(input(\"Enter the length of the first side: \"))\n",
        "b = float(input(\"Enter the length of the second side: \"))\n",
        "c = float(input(\"Enter the length of the third side: \"))\n",
        "\n",
        "\n",
        "if a==b==c:\n",
        "  print(\"EQUIVALENT TRIANGLE\")\n",
        "\n",
        "elif a==b!=c or b==c!=a or a==c!=b:\n",
        "  print(\"ISOSCELES TRIANGLE\")\n",
        "\n",
        "else:\n",
        "  print(\"SCALENE TRIANGLE\")"
      ],
      "metadata": {
        "colab": {
          "base_uri": "https://localhost:8080/"
        },
        "id": "pzaEzX6d7z-e",
        "outputId": "a6a19e5d-69ea-4c4c-c930-5f0291d5ad46"
      },
      "execution_count": null,
      "outputs": [
        {
          "output_type": "stream",
          "name": "stdout",
          "text": [
            "CHECK THE TRIANGLE IS EQUIVALENT/ISOSCELES\n",
            "Enter the length of the first side: 10 \n",
            "Enter the length of the second side: 10\n",
            "Enter the length of the third side: 30\n",
            "ISOSCELES TRIANGLE\n"
          ]
        }
      ]
    }
  ]
}