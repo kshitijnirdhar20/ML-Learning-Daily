{
  "nbformat": 4,
  "nbformat_minor": 0,
  "metadata": {
    "colab": {
      "provenance": []
    },
    "kernelspec": {
      "name": "python3",
      "display_name": "Python 3"
    },
    "language_info": {
      "name": "python"
    }
  },
  "cells": [
    {
      "cell_type": "code",
      "execution_count": null,
      "metadata": {
        "colab": {
          "base_uri": "https://localhost:8080/"
        },
        "id": "n1JgO8v-iB3w",
        "outputId": "39a352ff-cead-47ee-ebdb-247c01339c30"
      },
      "outputs": [
        {
          "output_type": "stream",
          "name": "stdout",
          "text": [
            "b is greater than a\n",
            "Enter first number: 9\n",
            "x is less than 10\n"
          ]
        }
      ],
      "source": [
        "a=20\n",
        "b=200\n",
        "if b>a:\n",
        "    print(\"b is greater than a\")\n",
        "else:\n",
        "    print(\"b is not greater than a\")\n",
        "\n",
        "\n",
        "x = int(input(\"Enter first number: \"))\n",
        "if 10 < x < 20:\n",
        "    print('x is between 10 and 20')\n",
        "elif x < 10:\n",
        "    print('x is less than 10')\n",
        "else:\n",
        "    print('x is greater than 20')\n",
        "\n",
        "\n",
        "\n",
        "\n",
        "\n",
        "\n"
      ]
    },
    {
      "cell_type": "code",
      "source": [],
      "metadata": {
        "id": "_ntV9vRQipyI"
      },
      "execution_count": null,
      "outputs": []
    }
  ]
}