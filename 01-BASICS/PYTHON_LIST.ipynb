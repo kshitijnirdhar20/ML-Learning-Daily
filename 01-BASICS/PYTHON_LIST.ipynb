{
  "nbformat": 4,
  "nbformat_minor": 0,
  "metadata": {
    "colab": {
      "provenance": []
    },
    "kernelspec": {
      "name": "python3",
      "display_name": "Python 3"
    },
    "language_info": {
      "name": "python"
    }
  },
  "cells": [
    {
      "cell_type": "code",
      "source": [
        "list1=[1,2,345,4,5,656,7,258,29]\n",
        "list2=['a','b','c','d']\n",
        "list3=[1,'a',2,'b']\n",
        "\n",
        "\n",
        "print(list1)\n",
        "print(list2)\n",
        "print(list3)\n",
        "\n",
        "sliced_list=list1[-3:-1]  #SLICING\n",
        "\n",
        "print(\"sliced list =\",sliced_list)\n",
        "\n",
        "reversed_list= list1[::-1]          #REVERSING\n",
        "\n",
        "print(\"reversedlist =\",reversed_list)\n",
        "\n",
        "list1.append(10)   #APPEND\n",
        "print(list1)\n",
        "\n",
        "list1.insert(0,0)    #INSERT\n",
        "print(list1)\n",
        "\n",
        "\n",
        "print(\"iterating\")     #LOOP ITERATION\n",
        "for item in list1:\n",
        "    print(item)\n",
        "\n",
        "\n"
      ],
      "metadata": {
        "colab": {
          "base_uri": "https://localhost:8080/"
        },
        "id": "yc8pFbcbPlMW",
        "outputId": "f629c1bb-7c08-4eb0-d59f-b58b817fae36"
      },
      "execution_count": null,
      "outputs": [
        {
          "output_type": "stream",
          "name": "stdout",
          "text": [
            "[1, 2, 345, 4, 5, 656, 7, 258, 29]\n",
            "['a', 'b', 'c', 'd']\n",
            "[1, 'a', 2, 'b']\n",
            "sliced list = [7, 258]\n",
            "reversedlist = [29, 258, 7, 656, 5, 4, 345, 2, 1]\n",
            "[1, 2, 345, 4, 5, 656, 7, 258, 29, 10]\n",
            "[0, 1, 2, 345, 4, 5, 656, 7, 258, 29, 10]\n",
            "iterating\n",
            "0\n",
            "1\n",
            "2\n",
            "345\n",
            "4\n",
            "5\n",
            "656\n",
            "7\n",
            "258\n",
            "29\n",
            "10\n"
          ]
        }
      ]
    },
    {
      "cell_type": "code",
      "source": [
        "list1.remove(1)   #REMOVE\n",
        "print(list1)\n"
      ],
      "metadata": {
        "colab": {
          "base_uri": "https://localhost:8080/"
        },
        "id": "ssLdrnPkXMPP",
        "outputId": "5d210bd7-5443-45b5-bb18-b3e7f1d41a7b"
      },
      "execution_count": null,
      "outputs": [
        {
          "output_type": "stream",
          "name": "stdout",
          "text": [
            "[0, 2, 345, 4, 5, 656, 7, 258, 29, 10]\n"
          ]
        }
      ]
    },
    {
      "cell_type": "code",
      "source": [
        "print(list1)      #EXTEND\n",
        "print(list2)\n",
        "list1.extend(list2)\n",
        "print(list1)\n",
        "print(type(list1))"
      ],
      "metadata": {
        "colab": {
          "base_uri": "https://localhost:8080/"
        },
        "id": "3CdQPBFNVHAP",
        "outputId": "f5ec8a8c-c15e-471a-9308-a88aa71bea04"
      },
      "execution_count": null,
      "outputs": [
        {
          "output_type": "stream",
          "name": "stdout",
          "text": [
            "[0, 2, 345, 4, 5, 656, 7, 258, 29, 10]\n",
            "['a', 'b', 'c', 'd']\n",
            "[0, 2, 345, 4, 5, 656, 7, 258, 29, 10, 'a', 'b', 'c', 'd']\n",
            "<class 'list'>\n"
          ]
        }
      ]
    },
    {
      "cell_type": "code",
      "source": [
        "list2[2]=10    #REPLACE\n",
        "print(list2)"
      ],
      "metadata": {
        "colab": {
          "base_uri": "https://localhost:8080/"
        },
        "id": "JgHmOMm7S04m",
        "outputId": "8fab1a32-1e5d-4938-e5be-98e8052a3dbe"
      },
      "execution_count": null,
      "outputs": [
        {
          "output_type": "stream",
          "name": "stdout",
          "text": [
            "['a', 'b', 10, 'd']\n"
          ]
        }
      ]
    },
    {
      "cell_type": "code",
      "source": [
        "del list2[1]  #DELETE\n",
        "print(list2)"
      ],
      "metadata": {
        "colab": {
          "base_uri": "https://localhost:8080/"
        },
        "id": "lXxxIS_iZS0_",
        "outputId": "a17b91dc-8f88-42c6-f49d-73e4e7349dbb"
      },
      "execution_count": null,
      "outputs": [
        {
          "output_type": "stream",
          "name": "stdout",
          "text": [
            "['a', 10, 'd']\n"
          ]
        }
      ]
    },
    {
      "cell_type": "code",
      "source": [
        "list2.clear()   #CLEAR\n",
        "print(list2)"
      ],
      "metadata": {
        "colab": {
          "base_uri": "https://localhost:8080/"
        },
        "id": "kt329o6fZx13",
        "outputId": "43b2ab33-3ccd-4c72-c8b7-d0e981c5addd"
      },
      "execution_count": null,
      "outputs": [
        {
          "output_type": "stream",
          "name": "stdout",
          "text": [
            "[]\n"
          ]
        }
      ]
    },
    {
      "cell_type": "code",
      "source": [
        "list4=[1,2,345,4,5,656,7,258,29]    #SORTING\n",
        "list4.sort()\n",
        "print(list4)"
      ],
      "metadata": {
        "colab": {
          "base_uri": "https://localhost:8080/"
        },
        "id": "PiGD6BUEaDWh",
        "outputId": "dcb6ca47-8cf0-4153-da15-05d74ce497c6"
      },
      "execution_count": null,
      "outputs": [
        {
          "output_type": "stream",
          "name": "stdout",
          "text": [
            "[1, 2, 4, 5, 7, 29, 258, 345, 656]\n"
          ]
        }
      ]
    },
    {
      "cell_type": "code",
      "source": [
        "list4.reverse()\n",
        "print(list4)\n",
        "\n"
      ],
      "metadata": {
        "colab": {
          "base_uri": "https://localhost:8080/"
        },
        "id": "U4Uxm2Pga993",
        "outputId": "54b77c42-9659-47e6-8639-532cf72e86d0"
      },
      "execution_count": null,
      "outputs": [
        {
          "output_type": "stream",
          "name": "stdout",
          "text": [
            "[656, 345, 258, 29, 7, 5, 4, 2, 1]\n"
          ]
        }
      ]
    },
    {
      "cell_type": "code",
      "source": [
        "print(max(list4))"
      ],
      "metadata": {
        "colab": {
          "base_uri": "https://localhost:8080/"
        },
        "id": "Ks5f-MhKbJvG",
        "outputId": "e44b2ea8-ff52-48e0-a6b1-bdb341982ac3"
      },
      "execution_count": null,
      "outputs": [
        {
          "output_type": "stream",
          "name": "stdout",
          "text": [
            "656\n"
          ]
        }
      ]
    },
    {
      "cell_type": "code",
      "source": [
        "print(min(list4))"
      ],
      "metadata": {
        "colab": {
          "base_uri": "https://localhost:8080/"
        },
        "id": "qNtaDqcUbdPP",
        "outputId": "d908c0ad-b354-414d-8a04-806195f177a8"
      },
      "execution_count": null,
      "outputs": [
        {
          "output_type": "stream",
          "name": "stdout",
          "text": [
            "1\n"
          ]
        }
      ]
    },
    {
      "cell_type": "code",
      "source": [
        "kichloo=list4.pop()\n",
        "print(kichloo)\n",
        "print(list4)"
      ],
      "metadata": {
        "colab": {
          "base_uri": "https://localhost:8080/"
        },
        "id": "gJlgVwRnbgKn",
        "outputId": "2c029dcc-fa84-4d77-8f63-225b20128b05"
      },
      "execution_count": null,
      "outputs": [
        {
          "output_type": "stream",
          "name": "stdout",
          "text": [
            "2\n",
            "[656, 345, 258, 29, 7, 5, 4]\n"
          ]
        }
      ]
    },
    {
      "cell_type": "code",
      "source": [
        "sum=sum(list4)\n",
        "print(sum)"
      ],
      "metadata": {
        "colab": {
          "base_uri": "https://localhost:8080/"
        },
        "id": "HYSvW6RPcPSY",
        "outputId": "22ca26a5-abe4-4f95-e241-cea29fdac592"
      },
      "execution_count": null,
      "outputs": [
        {
          "output_type": "stream",
          "name": "stdout",
          "text": [
            "1304\n"
          ]
        }
      ]
    },
    {
      "cell_type": "code",
      "source": [
        "list5=[456,789,452,147,487,123]\n",
        "list6=[456,258,357,452,123]\n",
        "\n",
        " common_elements=list(set(list5).intersection(list6))\n",
        "print(common_elements)"
      ],
      "metadata": {
        "colab": {
          "base_uri": "https://localhost:8080/"
        },
        "id": "MwOSRjkkdFfg",
        "outputId": "33eab1d3-ab2f-4e03-b291-829a483affaf"
      },
      "execution_count": null,
      "outputs": [
        {
          "output_type": "stream",
          "name": "stdout",
          "text": [
            "[456, 123, 452]\n"
          ]
        }
      ]
    },
    {
      "cell_type": "code",
      "source": [
        "print(len(list3))"
      ],
      "metadata": {
        "colab": {
          "base_uri": "https://localhost:8080/"
        },
        "id": "mvMwuhv4e5Hv",
        "outputId": "650e7643-15af-49ef-d8b1-0e7c89c665ae"
      },
      "execution_count": null,
      "outputs": [
        {
          "output_type": "stream",
          "name": "stdout",
          "text": [
            "4\n"
          ]
        }
      ]
    },
    {
      "cell_type": "code",
      "source": [
        "list6=[1,2,345,4,5,656,7,258,29]\n",
        "list7=['a','b','c','d']\n",
        "\n",
        "len3=len(list6)-len(list7)\n",
        "print(len3)\n",
        "for i in range(len3):\n",
        "    list7.append('z')\n",
        "print(list7)\n",
        "\n",
        "\n",
        "\n"
      ],
      "metadata": {
        "colab": {
          "base_uri": "https://localhost:8080/"
        },
        "id": "LHHCmuv1gPfG",
        "outputId": "7da29879-05ba-43c3-dbda-7f6779251abb"
      },
      "execution_count": null,
      "outputs": [
        {
          "output_type": "stream",
          "name": "stdout",
          "text": [
            "5\n",
            "['a', 'b', 'c', 'd', 'z', 'z', 'z', 'z', 'z']\n"
          ]
        }
      ]
    }
  ]
}