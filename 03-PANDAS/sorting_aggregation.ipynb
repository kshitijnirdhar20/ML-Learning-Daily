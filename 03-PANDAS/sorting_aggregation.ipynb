{
 "cells": [
  {
   "cell_type": "code",
   "execution_count": 5,
   "id": "84d14741-372d-4603-a2f5-b4dd48f42a32",
   "metadata": {},
   "outputs": [
    {
     "name": "stdout",
     "output_type": "stream",
     "text": [
      "    Name  Marks\n",
      "1  Alice     25\n",
      "3  Tracy     56\n",
      "2  David     78\n",
      "0    Bob     95\n"
     ]
    }
   ],
   "source": [
    "import pandas as pd\n",
    "\n",
    "data={\n",
    "    'Name':['Bob','Alice','David','Tracy'],  \n",
    "    'Marks':[95,25,78,56]\n",
    "}\n",
    "\n",
    "df=pd.DataFrame(data)\n",
    "\n",
    "sorted_df=df.sort_values(by='Marks',ascending=True)\n",
    "print(sorted_df)"
   ]
  },
  {
   "cell_type": "code",
   "execution_count": 9,
   "id": "a54dd77c-8cc7-4281-829d-262a27cc83b1",
   "metadata": {},
   "outputs": [
    {
     "name": "stdout",
     "output_type": "stream",
     "text": [
      "    Name  Marks\n",
      "1  Alice     25\n",
      "0    Bob     95\n",
      "2  David     78\n",
      "3  Tracy     56\n"
     ]
    }
   ],
   "source": [
    "import pandas as pd\n",
    "\n",
    "data={\n",
    "    'Name':['Bob','Alice','David','Tracy'],  \n",
    "    'Marks':[95,25,78,56]\n",
    "}\n",
    "\n",
    "df=pd.DataFrame(data)\n",
    "\n",
    "sorted_df=df.sort_values(by=['Name','Marks'],ascending=[True,True])\n",
    "print(sorted_df)"
   ]
  },
  {
   "cell_type": "code",
   "execution_count": 15,
   "id": "5b4f0181-b62b-497c-b3e9-86709e5db026",
   "metadata": {},
   "outputs": [
    {
     "name": "stdout",
     "output_type": "stream",
     "text": [
      "    Name  Marks\n",
      "0    Bob     95\n",
      "1  Alice     25\n",
      "2  David     78\n",
      "3  Tracy     56\n",
      "63.5\n",
      "254\n"
     ]
    },
    {
     "data": {
      "text/html": [
       "<div>\n",
       "<style scoped>\n",
       "    .dataframe tbody tr th:only-of-type {\n",
       "        vertical-align: middle;\n",
       "    }\n",
       "\n",
       "    .dataframe tbody tr th {\n",
       "        vertical-align: top;\n",
       "    }\n",
       "\n",
       "    .dataframe thead th {\n",
       "        text-align: right;\n",
       "    }\n",
       "</style>\n",
       "<table border=\"1\" class=\"dataframe\">\n",
       "  <thead>\n",
       "    <tr style=\"text-align: right;\">\n",
       "      <th></th>\n",
       "      <th>Marks</th>\n",
       "    </tr>\n",
       "  </thead>\n",
       "  <tbody>\n",
       "    <tr>\n",
       "      <th>min</th>\n",
       "      <td>25.00000</td>\n",
       "    </tr>\n",
       "    <tr>\n",
       "      <th>max</th>\n",
       "      <td>95.00000</td>\n",
       "    </tr>\n",
       "    <tr>\n",
       "      <th>mean</th>\n",
       "      <td>63.50000</td>\n",
       "    </tr>\n",
       "    <tr>\n",
       "      <th>std</th>\n",
       "      <td>30.22692</td>\n",
       "    </tr>\n",
       "  </tbody>\n",
       "</table>\n",
       "</div>"
      ],
      "text/plain": [
       "         Marks\n",
       "min   25.00000\n",
       "max   95.00000\n",
       "mean  63.50000\n",
       "std   30.22692"
      ]
     },
     "execution_count": 15,
     "metadata": {},
     "output_type": "execute_result"
    }
   ],
   "source": [
    "import pandas as pd\n",
    "\n",
    "data={\n",
    "    'Name':['Bob','Alice','David','Tracy'],  \n",
    "    'Marks':[95,25,78,56]\n",
    "}\n",
    "\n",
    "df=pd.DataFrame(data)\n",
    "print(df)\n",
    "\n",
    "mean_marks=df['Marks'].mean()  \n",
    "print(mean_marks)\n",
    "\n",
    "sum_marks=df['Marks'].sum()  \n",
    "print(sum_marks)    \n",
    "\n",
    "df.agg({'Marks': ['min', 'max', 'mean', 'std']})\n",
    "\n"
   ]
  },
  {
   "cell_type": "code",
   "execution_count": 17,
   "id": "0046508d-40d0-450e-9318-a5780bc1be56",
   "metadata": {},
   "outputs": [
    {
     "name": "stdout",
     "output_type": "stream",
     "text": [
      "Name\n",
      "Alice      86.5\n",
      "Bob        93.5\n",
      "Charlie    78.0\n",
      "Name: Marks, dtype: float64\n"
     ]
    }
   ],
   "source": [
    "data = {\n",
    "    'Name': ['Alice', 'Bob', 'Charlie', 'Alice', 'Bob'],\n",
    "    'Subject': ['Math', 'Math', 'Math', 'Science', 'Science'],\n",
    "    'Marks': [85, 92, 78, 88, 95]\n",
    "}\n",
    "df = pd.DataFrame(data)\n",
    "\n",
    "grouped=df.groupby(\"Name\")['Marks'].mean()\n",
    "print(grouped)"
   ]
  },
  {
   "cell_type": "code",
   "execution_count": 18,
   "id": "be5c4483-6d93-4396-95bc-b1935712a696",
   "metadata": {},
   "outputs": [
    {
     "name": "stdout",
     "output_type": "stream",
     "text": [
      "Name\n",
      "Alice      86.5\n",
      "Bob        93.5\n",
      "Charlie    78.0\n",
      "Name: Marks, dtype: float64\n"
     ]
    },
    {
     "data": {
      "text/plain": [
       "Name     Subject\n",
       "Alice    Math       85\n",
       "         Science    88\n",
       "Bob      Math       92\n",
       "         Science    95\n",
       "Charlie  Math       78\n",
       "Name: Marks, dtype: int64"
      ]
     },
     "execution_count": 18,
     "metadata": {},
     "output_type": "execute_result"
    }
   ],
   "source": [
    "data = {\n",
    "    'Name': ['Alice', 'Bob', 'Charlie', 'Alice', 'Bob'],\n",
    "    'Subject': ['Math', 'Math', 'Math', 'Science', 'Science'],\n",
    "    'Marks': [85, 92, 78, 88, 95]\n",
    "}\n",
    "df = pd.DataFrame(data)\n",
    "\n",
    "grouped=df.groupby(\"Name\")['Marks'].mean()\n",
    "print(grouped)\n",
    "\n",
    "df.groupby(['Name', 'Subject'])['Marks'].sum()\n",
    "\n"
   ]
  }
 ],
 "metadata": {
  "kernelspec": {
   "display_name": "Python [conda env:base] *",
   "language": "python",
   "name": "conda-base-py"
  },
  "language_info": {
   "codemirror_mode": {
    "name": "ipython",
    "version": 3
   },
   "file_extension": ".py",
   "mimetype": "text/x-python",
   "name": "python",
   "nbconvert_exporter": "python",
   "pygments_lexer": "ipython3",
   "version": "3.13.5"
  }
 },
 "nbformat": 4,
 "nbformat_minor": 5
}
