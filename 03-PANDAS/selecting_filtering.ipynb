{
 "cells": [
  {
   "cell_type": "code",
   "execution_count": 1,
   "id": "732d04e7-76a3-4995-b9aa-033b36ac71b7",
   "metadata": {},
   "outputs": [
    {
     "name": "stdout",
     "output_type": "stream",
     "text": [
      "0     Aarav\n",
      "1      Isha\n",
      "2      Neha\n",
      "3     Rohan\n",
      "4    Vikram\n",
      "5     Meera\n",
      "6     Kunal\n",
      "7      Tara\n",
      "Name: Name, dtype: object\n"
     ]
    }
   ],
   "source": [
    "import pandas as pd       #ACCESSING SINGLE COLUMN\n",
    "\n",
    "data = {\n",
    "    \"Name\": ['Aarav', 'Isha', 'Neha', 'Rohan', 'Vikram', 'Meera', 'Kunal', 'Tara'],\n",
    "    \"Age\": [21, 22, 23, 20, 24, 22, 21, 23],\n",
    "    \"Marks\": [88, 76, 91, 85, 79, 94, 67, 89],\n",
    "    \"Course\": ['Python', 'Data Science', 'AI', 'ML', 'Web Dev', 'CyberSec', 'DSA', 'IoT']\n",
    "}\n",
    "\n",
    "\n",
    "df=pd.DataFrame(data)\n",
    "\n",
    "\n",
    "column=df[\"Name\"]\n",
    "print(column)"
   ]
  },
  {
   "cell_type": "code",
   "execution_count": 5,
   "id": "43ac4c3d-94f1-4ed2-84de-fe32933c95f9",
   "metadata": {},
   "outputs": [
    {
     "name": "stdout",
     "output_type": "stream",
     "text": [
      "   Marks        Course\n",
      "0     88        Python\n",
      "1     76  Data Science\n",
      "2     91            AI\n",
      "3     85            ML\n",
      "4     79       Web Dev\n",
      "5     94      CyberSec\n",
      "6     67           DSA\n",
      "7     89           IoT\n"
     ]
    }
   ],
   "source": [
    "import pandas as pd    #ACCESSED MULTIPLE COLUMNS\n",
    "\n",
    "data = {\n",
    "    \"Name\": ['Aarav', 'Isha', 'Neha', 'Rohan', 'Vikram', 'Meera', 'Kunal', 'Tara'],\n",
    "    \"Age\": [21, 22, 23, 20, 24, 22, 21, 23],\n",
    "    \"Marks\": [88, 76, 91, 85, 79, 94, 67, 89],\n",
    "    \"Course\": ['Python', 'Data Science', 'AI', 'ML', 'Web Dev', 'CyberSec', 'DSA', 'IoT']\n",
    "}\n",
    "\n",
    "\n",
    "df=pd.DataFrame(data)\n",
    "\n",
    "\n",
    "filtered_columns=df[[\"Marks\",\"Course\"]]\n",
    "print(filtered_columns)"
   ]
  },
  {
   "cell_type": "code",
   "execution_count": 6,
   "id": "91f1fad2-d7fb-4d75-bcbe-2333e2e1e681",
   "metadata": {},
   "outputs": [
    {
     "name": "stdout",
     "output_type": "stream",
     "text": [
      "     Name  Age  Marks   Course\n",
      "2    Neha   23     91       AI\n",
      "4  Vikram   24     79  Web Dev\n",
      "7    Tara   23     89      IoT\n"
     ]
    }
   ],
   "source": [
    "import pandas as pd   #ACCESSED COLUMNS AND ROWS BASED ON SINGLE CONDITION\n",
    "\n",
    "data = {\n",
    "    \"Name\": ['Aarav', 'Isha', 'Neha', 'Rohan', 'Vikram', 'Meera', 'Kunal', 'Tara'],\n",
    "    \"Age\": [21, 22, 23, 20, 24, 22, 21, 23],\n",
    "    \"Marks\": [88, 76, 91, 85, 79, 94, 67, 89],\n",
    "    \"Course\": ['Python', 'Data Science', 'AI', 'ML', 'Web Dev', 'CyberSec', 'DSA', 'IoT']\n",
    "}\n",
    "\n",
    "\n",
    "df=pd.DataFrame(data)\n",
    "\n",
    "\n",
    "filtered=df[df[\"Age\"]>22]\n",
    "print(filtered)"
   ]
  },
  {
   "cell_type": "code",
   "execution_count": 7,
   "id": "637be30d-5459-4999-823b-0d4b6d416dfb",
   "metadata": {},
   "outputs": [
    {
     "name": "stdout",
     "output_type": "stream",
     "text": [
      "   Name  Age  Marks Course\n",
      "2  Neha   23     91     AI\n",
      "7  Tara   23     89    IoT\n"
     ]
    }
   ],
   "source": [
    "import pandas as pd\n",
    "\n",
    "data = {\n",
    "    \"Name\": ['Aarav', 'Isha', 'Neha', 'Rohan', 'Vikram', 'Meera', 'Kunal', 'Tara'],\n",
    "    \"Age\": [21, 22, 23, 20, 24, 22, 21, 23],\n",
    "    \"Marks\": [88, 76, 91, 85, 79, 94, 67, 89],\n",
    "    \"Course\": ['Python', 'Data Science', 'AI', 'ML', 'Web Dev', 'CyberSec', 'DSA', 'IoT']\n",
    "}\n",
    "\n",
    "\n",
    "df=pd.DataFrame(data)\n",
    "\n",
    "filtered=df[(df[\"Age\"]>22) & (df[\"Marks\"]>80)]\n",
    "print(filtered)"
   ]
  },
  {
   "cell_type": "code",
   "execution_count": 8,
   "id": "ec68cbec-10d5-4af7-9264-18f3bb96c014",
   "metadata": {},
   "outputs": [
    {
     "name": "stdout",
     "output_type": "stream",
     "text": [
      "     Name  Age  Marks    Course\n",
      "0   Aarav   21     88    Python\n",
      "2    Neha   23     91        AI\n",
      "3   Rohan   20     85        ML\n",
      "4  Vikram   24     79   Web Dev\n",
      "5   Meera   22     94  CyberSec\n",
      "7    Tara   23     89       IoT\n"
     ]
    }
   ],
   "source": [
    "import pandas as pd\n",
    "\n",
    "data = {\n",
    "    \"Name\": ['Aarav', 'Isha', 'Neha', 'Rohan', 'Vikram', 'Meera', 'Kunal', 'Tara'],\n",
    "    \"Age\": [21, 22, 23, 20, 24, 22, 21, 23],\n",
    "    \"Marks\": [88, 76, 91, 85, 79, 94, 67, 89],\n",
    "    \"Course\": ['Python', 'Data Science', 'AI', 'ML', 'Web Dev', 'CyberSec', 'DSA', 'IoT']\n",
    "}\n",
    "\n",
    "\n",
    "df=pd.DataFrame(data)\n",
    "\n",
    "filtered=df[(df[\"Age\"]>22) | (df[\"Marks\"]>80)]\n",
    "print(filtered)"
   ]
  },
  {
   "cell_type": "code",
   "execution_count": null,
   "id": "e37bb16b-3f4e-41d7-a0be-f45ed45ea8e7",
   "metadata": {},
   "outputs": [],
   "source": []
  }
 ],
 "metadata": {
  "kernelspec": {
   "display_name": "Python [conda env:base] *",
   "language": "python",
   "name": "conda-base-py"
  },
  "language_info": {
   "codemirror_mode": {
    "name": "ipython",
    "version": 3
   },
   "file_extension": ".py",
   "mimetype": "text/x-python",
   "name": "python",
   "nbconvert_exporter": "python",
   "pygments_lexer": "ipython3",
   "version": "3.13.5"
  }
 },
 "nbformat": 4,
 "nbformat_minor": 5
}
