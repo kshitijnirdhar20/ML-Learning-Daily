{
 "cells": [
  {
   "cell_type": "code",
   "execution_count": 1,
   "id": "df697e97-b4cc-47dd-8e83-c8bb3a682692",
   "metadata": {},
   "outputs": [
    {
     "name": "stdout",
     "output_type": "stream",
     "text": [
      "   ID     Name\n",
      "0   1    Alice\n",
      "1   2      Bob\n",
      "2   3  Charlie\n",
      "3   4    David\n"
     ]
    }
   ],
   "source": [
    "import pandas as pd\n",
    "\n",
    "df1 = pd.DataFrame({'ID': [1, 2], 'Name': ['Alice', 'Bob']})\n",
    "df2 = pd.DataFrame({'ID': [3, 4], 'Name': ['Charlie', 'David']})\n",
    "\n",
    "result = pd.concat([df1, df2],ignore_index=True)\n",
    "print(result)\n"
   ]
  },
  {
   "cell_type": "code",
   "execution_count": 2,
   "id": "c1747a20-b51f-4c41-957a-9cea329fb822",
   "metadata": {},
   "outputs": [
    {
     "name": "stdout",
     "output_type": "stream",
     "text": [
      "   0      1  2        3\n",
      "0  1  Alice  3  Charlie\n",
      "1  2    Bob  4    David\n"
     ]
    }
   ],
   "source": [
    "import pandas as pd\n",
    "\n",
    "df1 = pd.DataFrame({'ID': [1, 2], 'Name': ['Alice', 'Bob']})\n",
    "df2 = pd.DataFrame({'ID': [3, 4], 'Name': ['Charlie', 'David']})\n",
    "\n",
    "result = pd.concat([df1, df2], axis=1,ignore_index=True)\n",
    "print(result)\n"
   ]
  },
  {
   "cell_type": "code",
   "execution_count": 6,
   "id": "6c3adab5-fb9b-4bc7-bb1b-be440e9d6c27",
   "metadata": {},
   "outputs": [
    {
     "name": "stdout",
     "output_type": "stream",
     "text": [
      "   ID   Name  Salary\n",
      "0   1  Alice   50000\n",
      "1   2    Bob   60000\n",
      "   ID     Name   Salary\n",
      "0   1    Alice  50000.0\n",
      "1   2      Bob  60000.0\n",
      "2   3  Charlie      NaN\n",
      "3   4      NaN  70000.0\n",
      "   ID     Name   Salary\n",
      "0   1    Alice  50000.0\n",
      "1   2      Bob  60000.0\n",
      "2   3  Charlie      NaN\n",
      "   ID   Name  Salary\n",
      "0   1  Alice   50000\n",
      "1   2    Bob   60000\n",
      "2   4    NaN   70000\n"
     ]
    }
   ],
   "source": [
    "df1 = pd.DataFrame({'ID': [1, 2, 3], 'Name': ['Alice', 'Bob', 'Charlie']})\n",
    "df2 = pd.DataFrame({'ID': [1, 2, 4], 'Salary': [50000, 60000, 70000]})\n",
    "\n",
    "result = pd.merge(df1, df2, on='ID')\n",
    "print(result)\n",
    "\n",
    "\n",
    "result2=pd.merge(df1, df2, on='ID', how='outer')\n",
    "print(result2)\n",
    "\n",
    "\n",
    "result3=pd.merge(df1, df2, on='ID', how='left')\n",
    "print(result3)\n",
    "\n",
    "\n",
    "result4=pd.merge(df1, df2, on='ID', how='right')  \n",
    "print(result4)"
   ]
  }
 ],
 "metadata": {
  "kernelspec": {
   "display_name": "Python [conda env:base] *",
   "language": "python",
   "name": "conda-base-py"
  },
  "language_info": {
   "codemirror_mode": {
    "name": "ipython",
    "version": 3
   },
   "file_extension": ".py",
   "mimetype": "text/x-python",
   "name": "python",
   "nbconvert_exporter": "python",
   "pygments_lexer": "ipython3",
   "version": "3.13.5"
  }
 },
 "nbformat": 4,
 "nbformat_minor": 5
}
