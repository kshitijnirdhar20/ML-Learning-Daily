{
 "cells": [
  {
   "cell_type": "code",
   "execution_count": 2,
   "id": "8973a366-9177-497b-bde5-3b985e3968b3",
   "metadata": {},
   "outputs": [
    {
     "name": "stdout",
     "output_type": "stream",
     "text": [
      "   StudentID     Name    City  Marks  FeesPaid\n",
      "0        101     Asha  Mumbai   85.0      True\n",
      "1        102  Bhavesh    Pune    NaN     False\n",
      "2        103   Chirag   Delhi   78.0      True\n",
      "3        106      NaN     NaN   92.0      True\n"
     ]
    }
   ],
   "source": [
    "import pandas as pd\n",
    "\n",
    "data1 = {\n",
    "    'StudentID': [101, 102, 103, 104, 105],\n",
    "    'Name': ['Asha', 'Bhavesh', 'Chirag', 'Diksha', 'Esha'],\n",
    "    'City': ['Mumbai', 'Pune', 'Delhi', 'Bangalore', 'Hyderabad']\n",
    "}\n",
    "\n",
    "df_students = pd.DataFrame(data1)\n",
    "\n",
    "data2 = {\n",
    "    'StudentID': [101, 102, 103, 106],\n",
    "    'Marks': [85, None, 78, 92],\n",
    "    'FeesPaid': [True, False, True, True]\n",
    "}\n",
    "\n",
    "df_scores = pd.DataFrame(data2)\n",
    "\n",
    "df_merge = pd.merge(df_students, df_scores, on='StudentID', how='right')\n",
    "print(df_merge)\n",
    "\n"
   ]
  },
  {
   "cell_type": "code",
   "execution_count": 11,
   "id": "ddcdb92c-3943-4a4f-872b-07bff1888a3d",
   "metadata": {},
   "outputs": [
    {
     "name": "stdout",
     "output_type": "stream",
     "text": [
      "   StudentID     Name       City  Marks FeesPaid\n",
      "0        101     Asha     Mumbai   85.0     True\n",
      "1        102  Bhavesh       Pune   85.0    False\n",
      "2        103   Chirag      Delhi   78.0     True\n",
      "3        104   Diksha  Bangalore   85.0      NaN\n",
      "4        105     Esha  Hyderabad   85.0      NaN\n",
      "5        106      NaN        NaN   92.0     True\n"
     ]
    }
   ],
   "source": [
    "import pandas as pd\n",
    "\n",
    "data1 = {\n",
    "    'StudentID': [101, 102, 103, 104, 105],\n",
    "    'Name': ['Asha', 'Bhavesh', 'Chirag', 'Diksha', 'Esha'],\n",
    "    'City': ['Mumbai', 'Pune', 'Delhi', 'Bangalore', 'Hyderabad']\n",
    "}\n",
    "\n",
    "df_students = pd.DataFrame(data1)\n",
    "\n",
    "data2 = {\n",
    "    'StudentID': [101, 102, 103, 106],\n",
    "    'Marks': [85, None, 78, 92],\n",
    "    'FeesPaid': [True, False, True, True]\n",
    "}\n",
    "\n",
    "df_scores = pd.DataFrame(data2)\n",
    "\n",
    "df_merge['Marks'] = df_merge['Marks'].fillna(df_merge['Marks'].mean())\n",
    "print(df_merge)\n",
    "\n"
   ]
  },
  {
   "cell_type": "code",
   "execution_count": 10,
   "id": "3df43802-4235-4eec-9c7b-fa148ff29106",
   "metadata": {},
   "outputs": [
    {
     "name": "stdout",
     "output_type": "stream",
     "text": [
      "   StudentID     Name       City  Marks FeesPaid\n",
      "5        106      NaN        NaN   92.0     True\n",
      "0        101     Asha     Mumbai   85.0     True\n",
      "1        102  Bhavesh       Pune   85.0    False\n",
      "3        104   Diksha  Bangalore   85.0      NaN\n",
      "4        105     Esha  Hyderabad   85.0      NaN\n",
      "2        103   Chirag      Delhi   78.0     True\n"
     ]
    }
   ],
   "source": [
    "sorted_df = df_merge.sort_values(by='Marks', ascending=False)\n",
    "print(sorted_df)"
   ]
  },
  {
   "cell_type": "code",
   "execution_count": 9,
   "id": "5046e2ba-467e-46df-93ca-d9403c03c2b0",
   "metadata": {},
   "outputs": [
    {
     "name": "stdout",
     "output_type": "stream",
     "text": [
      "   StudentID     Name       City  Marks FeesPaid\n",
      "0        101     Asha     Mumbai   85.0     True\n",
      "1        102  Bhavesh       Pune   85.0    False\n",
      "2        103   Chirag      Delhi   78.0     True\n",
      "3        104   Diksha  Bangalore   85.0      NaN\n",
      "4        105     Esha  Hyderabad   85.0      NaN\n"
     ]
    }
   ],
   "source": [
    "cleaned_df = df_merge.dropna(subset=['Name'])\n",
    "print(cleaned_df)\n"
   ]
  },
  {
   "cell_type": "code",
   "execution_count": 13,
   "id": "89091e4a-d766-4914-b31c-6e934ba04181",
   "metadata": {},
   "outputs": [
    {
     "name": "stdout",
     "output_type": "stream",
     "text": [
      "   StudentID     Name       City  Marks FeesPaid\n",
      "0        101     Asha     Mumbai   85.0     True\n",
      "1        102  Bhavesh       Pune   85.0    False\n",
      "2        103   Chirag      Delhi   78.0     True\n",
      "3        104   Diksha  Bangalore   85.0      NaN\n",
      "4        105     Esha  Hyderabad   85.0      NaN\n",
      "5        106      NaN        NaN   92.0     True\n"
     ]
    }
   ],
   "source": [
    "df_merge['Marks'] = df_merge['Marks'].interpolate(method='linear')\n",
    "print(df_merge)\n"
   ]
  },
  {
   "cell_type": "code",
   "execution_count": 14,
   "id": "86e05b53-01e1-4c5b-bc22-5dfa03e1e32a",
   "metadata": {},
   "outputs": [
    {
     "name": "stdout",
     "output_type": "stream",
     "text": [
      "City\n",
      "Bangalore    85.0\n",
      "Delhi        78.0\n",
      "Hyderabad    85.0\n",
      "Mumbai       85.0\n",
      "Pune         85.0\n",
      "Name: Marks, dtype: float64\n"
     ]
    }
   ],
   "source": [
    "grouped = cleaned_df.groupby('City')['Marks'].mean()\n",
    "print(grouped)\n"
   ]
  }
 ],
 "metadata": {
  "kernelspec": {
   "display_name": "Python [conda env:base] *",
   "language": "python",
   "name": "conda-base-py"
  },
  "language_info": {
   "codemirror_mode": {
    "name": "ipython",
    "version": 3
   },
   "file_extension": ".py",
   "mimetype": "text/x-python",
   "name": "python",
   "nbconvert_exporter": "python",
   "pygments_lexer": "ipython3",
   "version": "3.13.5"
  }
 },
 "nbformat": 4,
 "nbformat_minor": 5
}
