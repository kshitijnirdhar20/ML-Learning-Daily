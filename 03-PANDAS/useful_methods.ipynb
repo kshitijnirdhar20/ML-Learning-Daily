{
 "cells": [
  {
   "cell_type": "code",
   "execution_count": 2,
   "id": "9ddf95d5-c26e-4043-b9bd-3810bc847581",
   "metadata": {},
   "outputs": [
    {
     "name": "stdout",
     "output_type": "stream",
     "text": [
      "Display 6 rows of first\n",
      "     Name  Age  Marks        Course\n",
      "0   Aarav   21     88        Python\n",
      "1    Isha   22     76  Data Science\n",
      "2    Neha   23     91            AI\n",
      "3   Rohan   20     85            ML\n",
      "4  Vikram   24     79       Web Dev\n",
      "5   Meera   22     94      CyberSec\n",
      "Display 6 rows of last\n",
      "     Name  Age  Marks    Course\n",
      "2    Neha   23     91        AI\n",
      "3   Rohan   20     85        ML\n",
      "4  Vikram   24     79   Web Dev\n",
      "5   Meera   22     94  CyberSec\n",
      "6   Kunal   21     67       DSA\n",
      "7    Tara   23     89       IoT\n"
     ]
    }
   ],
   "source": [
    "import pandas as pd\n",
    "\n",
    "data = {\n",
    "    \"Name\": ['Aarav', 'Isha', 'Neha', 'Rohan', 'Vikram', 'Meera', 'Kunal', 'Tara'],\n",
    "    \"Age\": [21, 22, 23, 20, 24, 22, 21, 23],\n",
    "    \"Marks\": [88, 76, 91, 85, 79, 94, 67, 89],\n",
    "    \"Course\": ['Python', 'Data Science', 'AI', 'ML', 'Web Dev', 'CyberSec', 'DSA', 'IoT']\n",
    "}\n",
    "\n",
    "\n",
    "df=pd.DataFrame(data)\n",
    "\n",
    "print(\"Display 6 rows of first\")\n",
    "print(df.head(6))\n",
    "\n",
    "print(\"Display 6 rows of last\")\n",
    "print(df.tail(6))\n",
    "\n"
   ]
  },
  {
   "cell_type": "code",
   "execution_count": 3,
   "id": "cc6ec425-a7a3-42e9-aa43-ac6179d7f4d5",
   "metadata": {},
   "outputs": [
    {
     "name": "stdout",
     "output_type": "stream",
     "text": [
      "<class 'pandas.core.frame.DataFrame'>\n",
      "RangeIndex: 8 entries, 0 to 7\n",
      "Data columns (total 4 columns):\n",
      " #   Column  Non-Null Count  Dtype \n",
      "---  ------  --------------  ----- \n",
      " 0   Name    8 non-null      object\n",
      " 1   Age     8 non-null      int64 \n",
      " 2   Marks   8 non-null      int64 \n",
      " 3   Course  8 non-null      object\n",
      "dtypes: int64(2), object(2)\n",
      "memory usage: 388.0+ bytes\n",
      "None\n"
     ]
    }
   ],
   "source": [
    "import pandas as pd\n",
    "\n",
    "data = {\n",
    "    \"Name\": ['Aarav', 'Isha', 'Neha', 'Rohan', 'Vikram', 'Meera', 'Kunal', 'Tara'],\n",
    "    \"Age\": [21, 22, 23, 20, 24, 22, 21, 23],\n",
    "    \"Marks\": [88, 76, 91, 85, 79, 94, 67, 89],\n",
    "    \"Course\": ['Python', 'Data Science', 'AI', 'ML', 'Web Dev', 'CyberSec', 'DSA', 'IoT']\n",
    "}\n",
    "\n",
    "\n",
    "df=pd.DataFrame(data)\n",
    "\n",
    "\n",
    "print(df.info())"
   ]
  },
  {
   "cell_type": "code",
   "execution_count": 4,
   "id": "fa59409a-7991-41ee-82ee-8c14e2783d34",
   "metadata": {},
   "outputs": [
    {
     "name": "stdout",
     "output_type": "stream",
     "text": [
      "             Age      Marks\n",
      "count   8.000000   8.000000\n",
      "mean   22.000000  83.625000\n",
      "std     1.309307   9.006942\n",
      "min    20.000000  67.000000\n",
      "25%    21.000000  78.250000\n",
      "50%    22.000000  86.500000\n",
      "75%    23.000000  89.500000\n",
      "max    24.000000  94.000000\n"
     ]
    }
   ],
   "source": [
    "import pandas as pd\n",
    "\n",
    "data = {\n",
    "    \"Name\": ['Aarav', 'Isha', 'Neha', 'Rohan', 'Vikram', 'Meera', 'Kunal', 'Tara'],\n",
    "    \"Age\": [21, 22, 23, 20, 24, 22, 21, 23],\n",
    "    \"Marks\": [88, 76, 91, 85, 79, 94, 67, 89],\n",
    "    \"Course\": ['Python', 'Data Science', 'AI', 'ML', 'Web Dev', 'CyberSec', 'DSA', 'IoT']\n",
    "}\n",
    "\n",
    "\n",
    "df=pd.DataFrame(data)\n",
    "\n",
    "\n",
    "print(df.describe())"
   ]
  },
  {
   "cell_type": "code",
   "execution_count": 6,
   "id": "ccb4f98b-644b-4ea3-9942-020a394e198a",
   "metadata": {},
   "outputs": [
    {
     "name": "stdout",
     "output_type": "stream",
     "text": [
      "Shape of the dataset\n",
      "(8, 4)\n",
      "Column NAMES of the dataset\n",
      "Index(['Name', 'Age', 'Marks', 'Course'], dtype='object')\n"
     ]
    }
   ],
   "source": [
    "import pandas as pd\n",
    "\n",
    "data = {\n",
    "    \"Name\": ['Aarav', 'Isha', 'Neha', 'Rohan', 'Vikram', 'Meera', 'Kunal', 'Tara'],\n",
    "    \"Age\": [21, 22, 23, 20, 24, 22, 21, 23],\n",
    "    \"Marks\": [88, 76, 91, 85, 79, 94, 67, 89],\n",
    "    \"Course\": ['Python', 'Data Science', 'AI', 'ML', 'Web Dev', 'CyberSec', 'DSA', 'IoT']\n",
    "}\n",
    "\n",
    "\n",
    "df=pd.DataFrame(data)\n",
    "\n",
    "\n",
    "\n",
    "print(\"Shape of the dataset\")\n",
    "print(df.shape)\n",
    "\n",
    "print(\"Column NAMES of the dataset\")\n",
    "print(df.columns)"
   ]
  },
  {
   "cell_type": "code",
   "execution_count": null,
   "id": "a0c9c014-0be4-4194-9092-0a9af92e6be8",
   "metadata": {},
   "outputs": [],
   "source": []
  }
 ],
 "metadata": {
  "kernelspec": {
   "display_name": "Python [conda env:base] *",
   "language": "python",
   "name": "conda-base-py"
  },
  "language_info": {
   "codemirror_mode": {
    "name": "ipython",
    "version": 3
   },
   "file_extension": ".py",
   "mimetype": "text/x-python",
   "name": "python",
   "nbconvert_exporter": "python",
   "pygments_lexer": "ipython3",
   "version": "3.13.5"
  }
 },
 "nbformat": 4,
 "nbformat_minor": 5
}
