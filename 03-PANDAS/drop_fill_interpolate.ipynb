{
 "cells": [
  {
   "cell_type": "code",
   "execution_count": 1,
   "id": "1e189cf5-b5fc-4cce-80d5-f94071b65099",
   "metadata": {},
   "outputs": [
    {
     "name": "stdout",
     "output_type": "stream",
     "text": [
      "    Name  Marks     City\n",
      "0  Aarav   85.0   Mumbai\n",
      "1   Isha    NaN    Delhi\n",
      "2   None   90.0  Chennai\n",
      "3  Rohan   78.0     None\n"
     ]
    }
   ],
   "source": [
    "import pandas as pd\n",
    "\n",
    "\n",
    "# Sample DataFrame\n",
    "df = pd.DataFrame({\n",
    "    'Name': ['Aarav', 'Isha', None, 'Rohan'],\n",
    "    'Marks': [85, None, 90, 78],\n",
    "    'City': ['Mumbai', 'Delhi', 'Chennai', None]\n",
    "})\n",
    "\n",
    "print(df)\n"
   ]
  },
  {
   "cell_type": "code",
   "execution_count": 3,
   "id": "7d2af716-f380-47e1-9408-1346cc3224de",
   "metadata": {},
   "outputs": [
    {
     "name": "stdout",
     "output_type": "stream",
     "text": [
      "    Name  Marks     City\n",
      "0  Aarav   85.0   Mumbai\n",
      "1   Isha    NaN    Delhi\n",
      "2   None   90.0  Chennai\n",
      "3  Rohan   78.0     None\n"
     ]
    },
    {
     "data": {
      "text/html": [
       "<div>\n",
       "<style scoped>\n",
       "    .dataframe tbody tr th:only-of-type {\n",
       "        vertical-align: middle;\n",
       "    }\n",
       "\n",
       "    .dataframe tbody tr th {\n",
       "        vertical-align: top;\n",
       "    }\n",
       "\n",
       "    .dataframe thead th {\n",
       "        text-align: right;\n",
       "    }\n",
       "</style>\n",
       "<table border=\"1\" class=\"dataframe\">\n",
       "  <thead>\n",
       "    <tr style=\"text-align: right;\">\n",
       "      <th></th>\n",
       "      <th>Name</th>\n",
       "      <th>Marks</th>\n",
       "      <th>City</th>\n",
       "    </tr>\n",
       "  </thead>\n",
       "  <tbody>\n",
       "    <tr>\n",
       "      <th>0</th>\n",
       "      <td>Aarav</td>\n",
       "      <td>85.0</td>\n",
       "      <td>Mumbai</td>\n",
       "    </tr>\n",
       "    <tr>\n",
       "      <th>1</th>\n",
       "      <td>Isha</td>\n",
       "      <td>NaN</td>\n",
       "      <td>Delhi</td>\n",
       "    </tr>\n",
       "    <tr>\n",
       "      <th>2</th>\n",
       "      <td>None</td>\n",
       "      <td>90.0</td>\n",
       "      <td>Chennai</td>\n",
       "    </tr>\n",
       "    <tr>\n",
       "      <th>3</th>\n",
       "      <td>Rohan</td>\n",
       "      <td>78.0</td>\n",
       "      <td>None</td>\n",
       "    </tr>\n",
       "  </tbody>\n",
       "</table>\n",
       "</div>"
      ],
      "text/plain": [
       "    Name  Marks     City\n",
       "0  Aarav   85.0   Mumbai\n",
       "1   Isha    NaN    Delhi\n",
       "2   None   90.0  Chennai\n",
       "3  Rohan   78.0     None"
      ]
     },
     "execution_count": 3,
     "metadata": {},
     "output_type": "execute_result"
    }
   ],
   "source": [
    "import pandas as pd\n",
    "\n",
    "\n",
    "# Sample DataFrame\n",
    "df = pd.DataFrame({\n",
    "    'Name': ['Aarav', 'Isha', None, 'Rohan'],\n",
    "    'Marks': [85, None, 90, 78],\n",
    "    'City': ['Mumbai', 'Delhi', 'Chennai', None]\n",
    "})\n",
    "\n",
    "print(df)\n",
    "\n",
    "df.dropna(axis=0, how='all') "
   ]
  },
  {
   "cell_type": "code",
   "execution_count": 7,
   "id": "608a9077-7752-4156-bddd-b2ca75bd91f0",
   "metadata": {},
   "outputs": [
    {
     "name": "stdout",
     "output_type": "stream",
     "text": [
      "    Name  Marks     City\n",
      "0  Aarav   85.0   Mumbai\n",
      "1   Isha    NaN    Delhi\n",
      "2   None   90.0  Chennai\n",
      "3  Rohan   78.0     None\n",
      "    Name  Marks    City\n",
      "0  Aarav   85.0  Mumbai\n",
      "1   Isha    NaN   Delhi\n",
      "3  Rohan   78.0    None\n"
     ]
    }
   ],
   "source": [
    "import pandas as pd\n",
    "\n",
    "\n",
    "# Sample DataFrame\n",
    "df = pd.DataFrame({\n",
    "    'Name': ['Aarav', 'Isha', None, 'Rohan'],\n",
    "    'Marks': [85, None, 90, 78],\n",
    "    'City': ['Mumbai', 'Delhi', 'Chennai', None]\n",
    "})\n",
    "\n",
    "print(df)\n",
    "\n",
    "df_subset=df.dropna(subset=['Name'])\n",
    "print(df_subset)"
   ]
  },
  {
   "cell_type": "code",
   "execution_count": 14,
   "id": "4c81e87c-2a1f-4554-b679-919870f98645",
   "metadata": {},
   "outputs": [
    {
     "name": "stdout",
     "output_type": "stream",
     "text": [
      "    Name  Marks     City\n",
      "0  Aarav   85.0   Mumbai\n",
      "1   None    NaN     None\n",
      "2   Isha   90.0    Delhi\n",
      "3  Rohan   78.0  Chennai\n"
     ]
    },
    {
     "data": {
      "text/html": [
       "<div>\n",
       "<style scoped>\n",
       "    .dataframe tbody tr th:only-of-type {\n",
       "        vertical-align: middle;\n",
       "    }\n",
       "\n",
       "    .dataframe tbody tr th {\n",
       "        vertical-align: top;\n",
       "    }\n",
       "\n",
       "    .dataframe thead th {\n",
       "        text-align: right;\n",
       "    }\n",
       "</style>\n",
       "<table border=\"1\" class=\"dataframe\">\n",
       "  <thead>\n",
       "    <tr style=\"text-align: right;\">\n",
       "      <th></th>\n",
       "      <th>Name</th>\n",
       "      <th>Marks</th>\n",
       "      <th>City</th>\n",
       "    </tr>\n",
       "  </thead>\n",
       "  <tbody>\n",
       "    <tr>\n",
       "      <th>0</th>\n",
       "      <td>Aarav</td>\n",
       "      <td>85.0</td>\n",
       "      <td>Mumbai</td>\n",
       "    </tr>\n",
       "    <tr>\n",
       "      <th>1</th>\n",
       "      <td>0</td>\n",
       "      <td>0.0</td>\n",
       "      <td>0</td>\n",
       "    </tr>\n",
       "    <tr>\n",
       "      <th>2</th>\n",
       "      <td>Isha</td>\n",
       "      <td>90.0</td>\n",
       "      <td>Delhi</td>\n",
       "    </tr>\n",
       "    <tr>\n",
       "      <th>3</th>\n",
       "      <td>Rohan</td>\n",
       "      <td>78.0</td>\n",
       "      <td>Chennai</td>\n",
       "    </tr>\n",
       "  </tbody>\n",
       "</table>\n",
       "</div>"
      ],
      "text/plain": [
       "    Name  Marks     City\n",
       "0  Aarav   85.0   Mumbai\n",
       "1      0    0.0        0\n",
       "2   Isha   90.0    Delhi\n",
       "3  Rohan   78.0  Chennai"
      ]
     },
     "execution_count": 14,
     "metadata": {},
     "output_type": "execute_result"
    }
   ],
   "source": [
    "import pandas as pd\n",
    "\n",
    "\n",
    "# Sample DataFrame\n",
    "df = pd.DataFrame({\n",
    "    'Name': ['Aarav', None,'Isha', 'Rohan'],\n",
    "    'Marks': [85, None, 90, 78],\n",
    "    'City': ['Mumbai', None,'Delhi','Chennai']\n",
    "}) \n",
    "print(df)\n",
    "df.fillna(0)\n"
   ]
  },
  {
   "cell_type": "code",
   "execution_count": 23,
   "id": "226f314e-eb92-484e-8028-f9fc58504f09",
   "metadata": {},
   "outputs": [
    {
     "name": "stdout",
     "output_type": "stream",
     "text": [
      "    Name  Marks     City\n",
      "0  Aarav   85.0   Mumbai\n",
      "1   None    NaN     None\n",
      "2   Isha   90.0    Delhi\n",
      "3  Rohan   78.0  Chennai\n",
      "    Name      Marks     City\n",
      "0  Aarav  85.000000   Mumbai\n",
      "1   None  84.333333     None\n",
      "2   Isha  90.000000    Delhi\n",
      "3  Rohan  78.000000  Chennai\n"
     ]
    }
   ],
   "source": [
    "import pandas as pd\n",
    "\n",
    "\n",
    "# Sample DataFrame\n",
    "df = pd.DataFrame({\n",
    "    'Name': ['Aarav', None,'Isha', 'Rohan'],\n",
    "    'Marks': [85, None, 90, 78],\n",
    "    'City': ['Mumbai', None,'Delhi','Chennai']\n",
    "}) \n",
    "print(df)\n",
    "df['Marks'] = df['Marks'].fillna(df['Marks'].mean())\n",
    "print(df)\n"
   ]
  },
  {
   "cell_type": "code",
   "execution_count": 39,
   "id": "392bbea9-9541-4642-afa5-5d97fbb94249",
   "metadata": {},
   "outputs": [
    {
     "name": "stdout",
     "output_type": "stream",
     "text": [
      "   Day  Temperature\n",
      "0    1         30.0\n",
      "1    2          NaN\n",
      "2    3          NaN\n",
      "3    4         40.0\n",
      "4    5          NaN\n",
      "5    6         50.0\n",
      "6    7          NaN\n",
      "Linear interpolation:\n",
      "   Day  Temperature\n",
      "0    1    30.000000\n",
      "1    2    33.333333\n",
      "2    3    36.666667\n",
      "3    4    40.000000\n",
      "4    5    45.000000\n",
      "5    6    50.000000\n",
      "6    7    50.000000\n"
     ]
    }
   ],
   "source": [
    "import pandas as pd\n",
    "\n",
    "\n",
    "data = {\n",
    "    'Day': [1, 2, 3, 4, 5, 6, 7],\n",
    "    'Temperature': [30, None, None, 40, None, 50, None]\n",
    "}\n",
    "\n",
    "df = pd.DataFrame(data)\n",
    "print(df)\n",
    "\n",
    "df_linear = df.copy()\n",
    "df_linear['Temperature'] = df_linear['Temperature'].interpolate(method='linear')\n",
    "print(\"Linear interpolation:\")\n",
    "print(df_linear)\n",
    "\n"
   ]
  }
 ],
 "metadata": {
  "kernelspec": {
   "display_name": "Python [conda env:base] *",
   "language": "python",
   "name": "conda-base-py"
  },
  "language_info": {
   "codemirror_mode": {
    "name": "ipython",
    "version": 3
   },
   "file_extension": ".py",
   "mimetype": "text/x-python",
   "name": "python",
   "nbconvert_exporter": "python",
   "pygments_lexer": "ipython3",
   "version": "3.13.5"
  }
 },
 "nbformat": 4,
 "nbformat_minor": 5
}
