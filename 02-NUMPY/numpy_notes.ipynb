{
 "cells": [
  {
   "cell_type": "code",
   "execution_count": null,
   "id": "5f25e458-d331-4360-a527-79a5d1fc9499",
   "metadata": {},
   "outputs": [],
   "source": [
    "# NumPy Notes\n"
   ]
  },
  {
   "cell_type": "code",
   "execution_count": null,
   "id": "67bc6b45-caad-4932-a593-82622dd0cc41",
   "metadata": {},
   "outputs": [],
   "source": [
    "## 1. Basics of NumPy\n",
    "NumPy (Numerical Python) is a powerful library for numerical operations in Python. It provides support for arrays, matrices, and many mathematical functions to operate on these data structures.\n",
    "\n",
    "### Key Concepts:\n",
    "- NumPy arrays are more efficient than Python lists.\n",
    "- Arrays can be 1D, 2D, or multi-dimensional.\n",
    "- The `np.array()` function is used to create arrays.\n",
    "- Arrays allow element-wise operations.\n",
    "\n"
   ]
  },
  {
   "cell_type": "code",
   "execution_count": 2,
   "id": "7917571c-105a-4c9a-b865-ce576801816e",
   "metadata": {},
   "outputs": [
    {
     "name": "stdout",
     "output_type": "stream",
     "text": [
      "[1 2 3]\n"
     ]
    }
   ],
   "source": [
    "import numpy as np\n",
    "a = np.array([1, 2, 3])\n",
    "b = np.array([[1, 2], [3, 4]])\n",
    "print(a)"
   ]
  },
  {
   "cell_type": "code",
   "execution_count": null,
   "id": "02d3b276-1509-4cd9-80da-6eedd7f1fd53",
   "metadata": {},
   "outputs": [],
   "source": [
    "## 2. NumPy Properties\n",
    "NumPy arrays have important attributes:\n",
    "\n",
    "- ndim: Number of dimensions.\n",
    "- shape: Size of each dimension.\n",
    "- size: Total number of elements.\n",
    "- dtype: Data type of the array elements.\n",
    "- itemsize: Memory size of each element in bytes.\n"
   ]
  },
  {
   "cell_type": "code",
   "execution_count": null,
   "id": "7a4ba86f-c949-4866-8a7a-a4626fcf627e",
   "metadata": {},
   "outputs": [],
   "source": [
    "arr = np.array([[1, 2, 3], [4, 5, 6]])\n",
    "print(arr.ndim)    # 2\n",
    "print(arr.shape)   # (2, 3)\n",
    "print(arr.size)    # 6"
   ]
  },
  {
   "cell_type": "code",
   "execution_count": null,
   "id": "c7acf24b-9446-4702-8d98-e07bfbadda62",
   "metadata": {},
   "outputs": [],
   "source": [
    "## 3. Array Modification\n",
    "Arrays can be modified by accessing elements using indexing and slicing:\n",
    "\n",
    "- **Indexing**: arr[1][2] or arr[1, 2]\n",
    "- **Slicing**: arr[:, 1] (selects all rows, 2nd column)\n"
   ]
  },
  {
   "cell_type": "code",
   "execution_count": null,
   "id": "e88d5caf-4270-4c3e-b9e8-a897a14b94fd",
   "metadata": {},
   "outputs": [],
   "source": [
    "arr[0, 0] = 100\n",
    "arr[:, 1] = [9, 9]"
   ]
  },
  {
   "cell_type": "code",
   "execution_count": null,
   "id": "1ff0b06f-2ee5-4bff-88cc-352f683d20f2",
   "metadata": {},
   "outputs": [],
   "source": [
    "## 4. Reshaping and Manipulating Arrays\n",
    "You can change the structure of an array without changing its data.\n",
    "\n",
    "- reshape(): Changes shape.\n",
    "- flatten(): Converts to 1D.\n",
    "- ravel(): Returns flattened view.\n",
    "- transpose(): Flips axes."
   ]
  },
  {
   "cell_type": "code",
   "execution_count": null,
   "id": "bae85f90-12da-44c2-a8fc-3948df791150",
   "metadata": {},
   "outputs": [],
   "source": [
    "a = np.arange(6).reshape(2, 3)\n",
    "b = a.transpose()"
   ]
  },
  {
   "cell_type": "code",
   "execution_count": null,
   "id": "fd28c23b-e527-4994-98ca-41d992821447",
   "metadata": {},
   "outputs": [],
   "source": [
    "## 5. Mathematical Operations & Aggregation\n",
    "NumPy supports both element-wise operations and aggregation:\n",
    "\n",
    "- **Element-wise**: +, -, *, /, **\n",
    "- **Aggregate Functions**: sum(),min(), max(), mean(), std()\n",
    "- Can be applied across a specific axis."
   ]
  },
  {
   "cell_type": "code",
   "execution_count": null,
   "id": "4c4ae2ab-15ba-460c-99f8-00aa3a97475b",
   "metadata": {},
   "outputs": [],
   "source": [
    "arr = np.array([[1, 2], [3, 4]])\n",
    "arr.sum(axis=0)  # column-wise sum"
   ]
  },
  {
   "cell_type": "code",
   "execution_count": null,
   "id": "25671083-84ee-4b5d-b43e-4f2a528a4c81",
   "metadata": {},
   "outputs": [],
   "source": [
    "## 6. Broadcasting and Vectorization\n",
    "**Broadcasting** allows operations between arrays of different shapes.\n",
    "\n",
    "**Vectorization** means applying operations without loops, making computation faster."
   ]
  },
  {
   "cell_type": "code",
   "execution_count": null,
   "id": "be0fb61c-b9e2-45f3-8fb0-cdbfb3e5bd93",
   "metadata": {},
   "outputs": [],
   "source": [
    "a = np.array([1, 2, 3])\n",
    "b = 2\n",
    "c = a * b  # b is broadcasted"
   ]
  },
  {
   "cell_type": "code",
   "execution_count": null,
   "id": "635c26f1-870b-41c9-97c2-b765d780143d",
   "metadata": {},
   "outputs": [],
   "source": [
    "## 7. Handling Missing Values\n",
    "NumPy can handle missing data using:\n",
    "\n",
    "- np.nan for missing entries\n",
    "- np.isnan() to detect them\n",
    "- np.nanmean(), np.nanmax() for ignoring NaNs in computations\n"
   ]
  },
  {
   "cell_type": "code",
   "execution_count": null,
   "id": "c0fdc64f-8c94-46b5-a573-9cb09709088b",
   "metadata": {},
   "outputs": [],
   "source": [
    "arr = np.array([1, 2, np.nan])\n",
    "np.isnan(arr)  # [False False  True]"
   ]
  },
  {
   "cell_type": "code",
   "execution_count": null,
   "id": "d739639e-66da-4ffc-b3d3-44a3d25abd20",
   "metadata": {},
   "outputs": [],
   "source": [
    "## 8. NumPy Revision\n",
    "A quick summary of what we've covered:\n",
    "- Creation of arrays\n",
    "- Properties and structure\n",
    "- Indexing, slicing, reshaping\n",
    "- Mathematical and aggregate operations\n",
    "- Broadcasting concepts\n",
    "- Handling missing values\n",
    "\n",
    "These concepts form the foundation of numerical computing in Python and are essential for data science and machine learning."
   ]
  }
 ],
 "metadata": {
  "kernelspec": {
   "display_name": "Python [conda env:base] *",
   "language": "python",
   "name": "conda-base-py"
  },
  "language_info": {
   "codemirror_mode": {
    "name": "ipython",
    "version": 3
   },
   "file_extension": ".py",
   "mimetype": "text/x-python",
   "name": "python",
   "nbconvert_exporter": "python",
   "pygments_lexer": "ipython3",
   "version": "3.13.5"
  }
 },
 "nbformat": 4,
 "nbformat_minor": 5
}
