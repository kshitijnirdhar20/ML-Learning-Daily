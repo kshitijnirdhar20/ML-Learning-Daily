{
 "cells": [
  {
   "cell_type": "code",
   "execution_count": 3,
   "id": "6a0c9403-ffa6-4611-ba9f-499a3799f994",
   "metadata": {},
   "outputs": [
    {
     "name": "stdout",
     "output_type": "stream",
     "text": [
      "(2, 3)\n"
     ]
    }
   ],
   "source": [
    "import numpy as np    #SHAPE\n",
    "\n",
    "arr_2d=np.array([[10,20,30],[70,40,50]])\n",
    "\n",
    "print(arr_2d.shape)"
   ]
  },
  {
   "cell_type": "code",
   "execution_count": 4,
   "id": "49418afd-1d49-4d9b-bf05-86f6d123e2fa",
   "metadata": {},
   "outputs": [
    {
     "name": "stdout",
     "output_type": "stream",
     "text": [
      "6\n"
     ]
    }
   ],
   "source": [
    "import numpy as np  #SIZE  \n",
    "\n",
    "arr_2d=np.array([[10,20,30],[70,40,50]])\n",
    "\n",
    "print(arr_2d.size)\n"
   ]
  },
  {
   "cell_type": "code",
   "execution_count": 11,
   "id": "46d98d34-504f-487f-bc74-f8fec4173eb2",
   "metadata": {},
   "outputs": [
    {
     "name": "stdout",
     "output_type": "stream",
     "text": [
      "1\n",
      "2\n",
      "3\n"
     ]
    }
   ],
   "source": [
    "import numpy as np    # NO OF DIMESNIONS\n",
    "\n",
    "arr_1d=np.array([10,20,30])\n",
    "arr_2d=np.array([[10,20,30],[70,40,50]])\n",
    "arr_3d = np.array([[[10, 20], [40, 50], [80, 90]]])\n",
    "\n",
    "print(arr_1d.ndim)\n",
    "print(arr_2d.ndim)\n",
    "print(arr_3d.ndim)\n"
   ]
  },
  {
   "cell_type": "code",
   "execution_count": 14,
   "id": "34028ee4-f6d7-4f52-8950-8ca45d3caacb",
   "metadata": {},
   "outputs": [
    {
     "name": "stdout",
     "output_type": "stream",
     "text": [
      "float64\n"
     ]
    }
   ],
   "source": [
    "import numpy as np   #DATA TYPE \n",
    "\n",
    "arr_1d=np.array([10,20,30.5])\n",
    "\n",
    "print(arr_1d.dtype)"
   ]
  },
  {
   "cell_type": "code",
   "execution_count": 16,
   "id": "cec24f78-bf61-4b6e-a66c-19e825ced2b8",
   "metadata": {},
   "outputs": [
    {
     "name": "stdout",
     "output_type": "stream",
     "text": [
      "float64\n",
      "[10 20 30]\n",
      "int64\n"
     ]
    }
   ],
   "source": [
    "import numpy as np   #CONVERSION OF DATA TYPE \n",
    "\n",
    "arr_1d=np.array([10,20,30.5])\n",
    "print(arr_1d.dtype)\n",
    "\n",
    "int_arr=arr_1d.astype(int)\n",
    "print(int_arr)\n",
    "print(int_arr.dtype)\n"
   ]
  },
  {
   "cell_type": "code",
   "execution_count": null,
   "id": "96bd67d8-418c-4633-a2a9-48584cdaa77f",
   "metadata": {},
   "outputs": [],
   "source": []
  }
 ],
 "metadata": {
  "kernelspec": {
   "display_name": "Python [conda env:base] *",
   "language": "python",
   "name": "conda-base-py"
  },
  "language_info": {
   "codemirror_mode": {
    "name": "ipython",
    "version": 3
   },
   "file_extension": ".py",
   "mimetype": "text/x-python",
   "name": "python",
   "nbconvert_exporter": "python",
   "pygments_lexer": "ipython3",
   "version": "3.13.5"
  }
 },
 "nbformat": 4,
 "nbformat_minor": 5
}
