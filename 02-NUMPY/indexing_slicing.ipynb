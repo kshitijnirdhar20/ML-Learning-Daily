{
 "cells": [
  {
   "cell_type": "code",
   "execution_count": 2,
   "id": "bfe3dc6b-ba88-4bd0-ab81-b3a8de9c690e",
   "metadata": {},
   "outputs": [
    {
     "name": "stdout",
     "output_type": "stream",
     "text": [
      "20\n",
      "40\n",
      "10\n",
      "50\n"
     ]
    }
   ],
   "source": [
    "import numpy as np   #SLICING\n",
    "arr=np.array([10,20,30,40,50])\n",
    "\n",
    "print(arr[1])\n",
    "print(arr[3])\n",
    "print(arr[0])\n",
    "print(arr[-1])"
   ]
  },
  {
   "cell_type": "code",
   "execution_count": 5,
   "id": "b5e66f9a-6ad6-413e-9a7f-e4ed5d43bc4c",
   "metadata": {},
   "outputs": [
    {
     "name": "stdout",
     "output_type": "stream",
     "text": [
      "[20 30]\n",
      "[10 20 30 40]\n",
      "[10 30 50]\n",
      "[60 50 40 30 20 10]\n"
     ]
    }
   ],
   "source": [
    "import numpy as np #SLICING\n",
    "arr=np.array([10,20,30,40,50,60])\n",
    "\n",
    "print(arr[1:3])\n",
    "print(arr[:4])\n",
    "print(arr[::2])\n",
    "print(arr[::-1])"
   ]
  },
  {
   "cell_type": "code",
   "execution_count": 8,
   "id": "fbc37f12-0c20-4675-9bac-602084903472",
   "metadata": {},
   "outputs": [
    {
     "name": "stdout",
     "output_type": "stream",
     "text": [
      "[10 30 50]\n"
     ]
    }
   ],
   "source": [
    "import numpy as np  #Fancy Indexing\n",
    " \n",
    "arr=np.array([10,20,30,40,50,60])\n",
    "\n",
    "print(arr[[0,2,4]])\n"
   ]
  },
  {
   "cell_type": "code",
   "execution_count": 9,
   "id": "9cf506b8-e2b7-43b3-96d9-02db55d726ec",
   "metadata": {},
   "outputs": [
    {
     "name": "stdout",
     "output_type": "stream",
     "text": [
      "[30 40 50 60]\n"
     ]
    }
   ],
   "source": [
    "import numpy as np   #Boolean Masking\n",
    "arr=np.array([10,20,30,40,50,60])\n",
    "\n",
    "print(arr[arr>25])\n",
    "\n"
   ]
  },
  {
   "cell_type": "code",
   "execution_count": null,
   "id": "b70aae29-181c-4136-8ec0-bddc2216221a",
   "metadata": {},
   "outputs": [],
   "source": []
  }
 ],
 "metadata": {
  "kernelspec": {
   "display_name": "Python [conda env:base] *",
   "language": "python",
   "name": "conda-base-py"
  },
  "language_info": {
   "codemirror_mode": {
    "name": "ipython",
    "version": 3
   },
   "file_extension": ".py",
   "mimetype": "text/x-python",
   "name": "python",
   "nbconvert_exporter": "python",
   "pygments_lexer": "ipython3",
   "version": "3.13.5"
  }
 },
 "nbformat": 4,
 "nbformat_minor": 5
}
