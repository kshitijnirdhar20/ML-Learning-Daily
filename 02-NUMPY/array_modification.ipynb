{
 "cells": [
  {
   "cell_type": "code",
   "execution_count": 1,
   "id": "70a3dea4-aec5-4fd4-b103-3ec0fee9bbd4",
   "metadata": {},
   "outputs": [
    {
     "name": "stdout",
     "output_type": "stream",
     "text": [
      "[ 10  20 100  30  40  50]\n"
     ]
    }
   ],
   "source": [
    "import numpy as np    #INSERT (1D)\n",
    "arr=np.array([10,20,30,40,50])\n",
    "new_arr=np.insert(arr,2,100)\n",
    "print(new_arr)"
   ]
  },
  {
   "cell_type": "code",
   "execution_count": 8,
   "id": "c5fe884b-7a09-452d-88ca-238810f7fd1a",
   "metadata": {},
   "outputs": [
    {
     "name": "stdout",
     "output_type": "stream",
     "text": [
      "[[5 1 2 3]\n",
      " [6 4 5 6]]\n"
     ]
    }
   ],
   "source": [
    "import numpy as np     #INSERT(2D)\n",
    "arr_2d=np.array([[1,2,3],[4,5,6]])\n",
    "new_arr_2d=np.insert(arr_2d,0,[5,6],1)\n",
    "print(new_arr_2d)"
   ]
  },
  {
   "cell_type": "code",
   "execution_count": 12,
   "id": "ad81198e-c3fe-41bd-a315-c76405804936",
   "metadata": {},
   "outputs": [
    {
     "name": "stdout",
     "output_type": "stream",
     "text": [
      "[10 20 30 40 50 60]\n"
     ]
    }
   ],
   "source": [
    "import numpy as np   #Append\n",
    "arr=np.array([[10,20,30]])\n",
    "new_ar=np.append(arr,[[40,50,60]])\n",
    "print(new_ar)"
   ]
  },
  {
   "cell_type": "code",
   "execution_count": 13,
   "id": "d3c447ad-6ae8-46d4-9a4e-36ea8ba4e518",
   "metadata": {},
   "outputs": [
    {
     "name": "stdout",
     "output_type": "stream",
     "text": [
      "[[10 20 30]\n",
      " [40 50 60]]\n"
     ]
    }
   ],
   "source": [
    "import numpy as np   #Concatenate\n",
    "arr1=np.array([[10,20,30]])\n",
    "arr2=np.array([[40,50,60]])\n",
    "\n",
    "new_ar=np.concatenate((arr1,arr2))\n",
    "print(new_ar)\n",
    "\n"
   ]
  },
  {
   "cell_type": "code",
   "execution_count": 14,
   "id": "e5bd7f80-3095-4346-957e-fb4689d3153a",
   "metadata": {},
   "outputs": [
    {
     "name": "stdout",
     "output_type": "stream",
     "text": [
      "[2 3 4 5 6]\n"
     ]
    }
   ],
   "source": [
    "import numpy as np  #REMOVING (1D)\n",
    "\n",
    "arr_1=np.array([1,2,3,4,5,6])\n",
    "new_arr=np.delete(arr_1,0)\n",
    "print(new_arr)"
   ]
  },
  {
   "cell_type": "code",
   "execution_count": 16,
   "id": "021a8ccb-9583-492f-8fd5-d28b983a14a7",
   "metadata": {},
   "outputs": [
    {
     "name": "stdout",
     "output_type": "stream",
     "text": [
      "[[4 5 6]]\n"
     ]
    }
   ],
   "source": [
    "import numpy as np   #REMOVING (2D)\n",
    "arr_2=np.array([[1,2,3],[4,5,6]])\n",
    "new_arr_2d=np.delete(arr_2d,0,axis=0)\n",
    "print(new_arr_2d)"
   ]
  },
  {
   "cell_type": "code",
   "execution_count": 18,
   "id": "0e90dbbd-f28f-4883-9593-d0df71e74cd3",
   "metadata": {},
   "outputs": [
    {
     "name": "stdout",
     "output_type": "stream",
     "text": [
      "[[1 2 3]\n",
      " [4 5 6]]\n",
      "[1 2 3 4 5 6]\n"
     ]
    }
   ],
   "source": [
    "import numpy as np      #STACKING\n",
    "arr1=np.array([1,2,3])\n",
    "arr2=np.array([4,5,6])\n",
    "\n",
    "print(np.vstack((arr1,arr2)))\n",
    "print(np.hstack((arr1,arr2)))\n",
    "\n"
   ]
  },
  {
   "cell_type": "code",
   "execution_count": 20,
   "id": "b7f2936b-a3fe-4a64-aa10-eb24d5e350ee",
   "metadata": {},
   "outputs": [
    {
     "name": "stdout",
     "output_type": "stream",
     "text": [
      "[array([10, 20, 30]), array([40, 50, 60])]\n"
     ]
    }
   ],
   "source": [
    "import numpy as np      #SPLITTING\n",
    "\n",
    "arr=np.array([10,20,30,40,50,60])\n",
    "print(np.split(arr,2))"
   ]
  }
 ],
 "metadata": {
  "kernelspec": {
   "display_name": "Python [conda env:base] *",
   "language": "python",
   "name": "conda-base-py"
  },
  "language_info": {
   "codemirror_mode": {
    "name": "ipython",
    "version": 3
   },
   "file_extension": ".py",
   "mimetype": "text/x-python",
   "name": "python",
   "nbconvert_exporter": "python",
   "pygments_lexer": "ipython3",
   "version": "3.13.5"
  }
 },
 "nbformat": 4,
 "nbformat_minor": 5
}
