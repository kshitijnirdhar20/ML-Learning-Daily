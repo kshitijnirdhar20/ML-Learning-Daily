{
 "cells": [
  {
   "cell_type": "code",
   "execution_count": 1,
   "id": "d4c5392a-5d63-404c-8031-54356aa123e8",
   "metadata": {},
   "outputs": [
    {
     "name": "stdout",
     "output_type": "stream",
     "text": [
      "[ 90. 180. 270. 360. 450.]\n"
     ]
    }
   ],
   "source": [
    "import numpy as np    #Broadcasting  \n",
    "prices=np.array([100,200,300,400,500])\n",
    "discount=10\n",
    "\n",
    "final_prices=prices-(prices*discount/100)\n",
    "print(final_prices)\n"
   ]
  },
  {
   "cell_type": "code",
   "execution_count": 4,
   "id": "71b5280c-d071-4a75-98a8-5ffb2e070c1d",
   "metadata": {},
   "outputs": [
    {
     "name": "stdout",
     "output_type": "stream",
     "text": [
      "[ 2  4  6  8 10 12]\n"
     ]
    }
   ],
   "source": [
    "import numpy as np   #single value\n",
    "\n",
    "arr=np.array([1,2,3,4,5,6])\n",
    "result=arr*2\n",
    "print(result)\n"
   ]
  },
  {
   "cell_type": "code",
   "execution_count": 6,
   "id": "9a9a21c8-dc87-43f6-83bb-028cd8488056",
   "metadata": {},
   "outputs": [
    {
     "name": "stdout",
     "output_type": "stream",
     "text": [
      "[[11 22 33]\n",
      " [14 25 36]]\n"
     ]
    }
   ],
   "source": [
    "import numpy as np  #1d and 2d array addition\n",
    "\n",
    "matrix=np.array([[1,2,3],[4,5,6]])\n",
    "vector=np.array([10,20,30])\n",
    "\n",
    "result=matrix + vector\n",
    "print(result)"
   ]
  },
  {
   "cell_type": "code",
   "execution_count": 7,
   "id": "9965e508-6c1c-4779-aa6d-30243eb896d5",
   "metadata": {},
   "outputs": [
    {
     "name": "stdout",
     "output_type": "stream",
     "text": [
      "[5 7 9]\n"
     ]
    }
   ],
   "source": [
    "import numpy as np   #Vectorization\n",
    "\n",
    "arr1=np.array([1,2,3])\n",
    "arr2=np.array([4,5,6])\n",
    "\n",
    "result=arr1+arr2\n",
    "print(result)"
   ]
  }
 ],
 "metadata": {
  "kernelspec": {
   "display_name": "Python [conda env:base] *",
   "language": "python",
   "name": "conda-base-py"
  },
  "language_info": {
   "codemirror_mode": {
    "name": "ipython",
    "version": 3
   },
   "file_extension": ".py",
   "mimetype": "text/x-python",
   "name": "python",
   "nbconvert_exporter": "python",
   "pygments_lexer": "ipython3",
   "version": "3.13.5"
  }
 },
 "nbformat": 4,
 "nbformat_minor": 5
}
