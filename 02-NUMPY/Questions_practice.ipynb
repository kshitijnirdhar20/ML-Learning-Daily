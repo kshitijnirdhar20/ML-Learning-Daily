{
 "cells": [
  {
   "cell_type": "code",
   "execution_count": 1,
   "id": "e3427209-bb27-4060-b01e-50f42551fe3e",
   "metadata": {},
   "outputs": [
    {
     "name": "stdout",
     "output_type": "stream",
     "text": [
      "Zeros:\n",
      " [[0. 0. 0.]\n",
      " [0. 0. 0.]\n",
      " [0. 0. 0.]]\n",
      "Identity:\n",
      " [[1. 0. 0. 0.]\n",
      " [0. 1. 0. 0.]\n",
      " [0. 0. 1. 0.]\n",
      " [0. 0. 0. 1.]]\n",
      "Random:\n",
      " [[0.94756876 0.43380996 0.27318013 0.95537271 0.29603939]\n",
      " [0.46638705 0.76766382 0.91816415 0.48779146 0.3614553 ]]\n",
      "Range:\n",
      " [10 15 20 25]\n"
     ]
    }
   ],
   "source": [
    "import numpy as np\n",
    "\n",
    "# Create a 3x3 array of zeros\n",
    "a = np.zeros((3, 3))\n",
    "print(\"Zeros:\\n\", a)\n",
    "\n",
    "# Create a 4x4 identity matrix\n",
    "i = np.eye(4)\n",
    "print(\"Identity:\\n\", i)\n",
    "\n",
    "# Create a random array of shape (2, 5)\n",
    "r = np.random.rand(2, 5)\n",
    "print(\"Random:\\n\", r)\n",
    "\n",
    "# Create an array with a range of values\n",
    "arr = np.arange(10, 30, 5)\n",
    "print(\"Range:\\n\", arr)\n"
   ]
  },
  {
   "cell_type": "code",
   "execution_count": 2,
   "id": "dc282c05-af87-40c7-b828-a26ad8dc3838",
   "metadata": {},
   "outputs": [
    {
     "name": "stdout",
     "output_type": "stream",
     "text": [
      "20\n",
      "[20 50]\n",
      "[40 50 60]\n"
     ]
    }
   ],
   "source": [
    "a = np.array([[10, 20, 30], [40, 50, 60]])\n",
    "\n",
    "# Access element at first row, second column\n",
    "print(a[0, 1])  # Output: 20\n",
    "\n",
    "# Slice the second column\n",
    "print(a[:, 1])  # Output: [20 50]\n",
    "\n",
    "# Boolean indexing\n",
    "print(a[a > 30])  # Output: [40 50 60]\n"
   ]
  },
  {
   "cell_type": "code",
   "execution_count": 3,
   "id": "14dbfb70-ef67-40e2-8a8e-f07ea406b672",
   "metadata": {},
   "outputs": [
    {
     "name": "stdout",
     "output_type": "stream",
     "text": [
      "[1 2 3 4 5 6]\n",
      "[[1 2]\n",
      " [3 4]\n",
      " [5 6]]\n",
      "[[1 2 3]\n",
      " [4 5 6]\n",
      " [7 8 9]]\n",
      "[array([[1, 2, 3]]), array([[4, 5, 6]])]\n"
     ]
    }
   ],
   "source": [
    "a = np.array([[1, 2, 3], [4, 5, 6]])\n",
    "\n",
    "# Flatten the array\n",
    "print(a.flatten())\n",
    "\n",
    "# Reshape to 3x2\n",
    "print(a.reshape(3, 2))\n",
    "\n",
    "# Concatenate arrays\n",
    "b = np.array([[7, 8, 9]])\n",
    "print(np.concatenate((a, b), axis=0))\n",
    "\n",
    "# Split array into two parts\n",
    "print(np.split(a, 2))\n"
   ]
  },
  {
   "cell_type": "code",
   "execution_count": 4,
   "id": "b1c07ff0-1d3d-47c9-a7cf-16ec631df4e5",
   "metadata": {},
   "outputs": [
    {
     "name": "stdout",
     "output_type": "stream",
     "text": [
      "[[11 12]\n",
      " [13 14]]\n",
      "[[2 4]\n",
      " [6 8]]\n",
      "Sum: 10\n",
      "Mean (axis=0): [2. 3.]\n",
      "Std deviation: 1.118033988749895\n"
     ]
    }
   ],
   "source": [
    "a = np.array([[1, 2], [3, 4]])\n",
    "\n",
    "# Element-wise operations\n",
    "print(a + 10)\n",
    "print(a * 2)\n",
    "\n",
    "# Aggregation\n",
    "print(\"Sum:\", np.sum(a))\n",
    "print(\"Mean (axis=0):\", np.mean(a, axis=0))   #Column wise mean\n",
    "print(\"Std deviation:\", np.std(a))\n"
   ]
  },
  {
   "cell_type": "code",
   "execution_count": 7,
   "id": "1234ec6c-029c-4f43-9529-51bb6c86c614",
   "metadata": {},
   "outputs": [
    {
     "name": "stdout",
     "output_type": "stream",
     "text": [
      "[11 22 33]\n",
      "[ 1  4  9 16]\n",
      "Vectorized: [ 1  4  9 16]\n"
     ]
    }
   ],
   "source": [
    "a = np.array([1, 2, 3])\n",
    "b = np.array([10, 20, 30])\n",
    "\n",
    "# Broadcasting: a (3x1) + b (1x3) = (3x3)\n",
    "print(a + b)\n",
    "\n",
    "# Vectorized squaring\n",
    "x = np.array([1, 2, 3, 4])\n",
    "print(x ** 2)\n",
    "\n",
    "print(\"Vectorized:\", x ** 2)\n"
   ]
  }
 ],
 "metadata": {
  "kernelspec": {
   "display_name": "Python [conda env:base] *",
   "language": "python",
   "name": "conda-base-py"
  },
  "language_info": {
   "codemirror_mode": {
    "name": "ipython",
    "version": 3
   },
   "file_extension": ".py",
   "mimetype": "text/x-python",
   "name": "python",
   "nbconvert_exporter": "python",
   "pygments_lexer": "ipython3",
   "version": "3.13.5"
  }
 },
 "nbformat": 4,
 "nbformat_minor": 5
}
