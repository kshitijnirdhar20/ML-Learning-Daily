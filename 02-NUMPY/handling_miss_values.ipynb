{
 "cells": [
  {
   "cell_type": "code",
   "execution_count": 2,
   "id": "536f06bb-a409-4d85-bb95-5ebba9ec990e",
   "metadata": {},
   "outputs": [
    {
     "name": "stdout",
     "output_type": "stream",
     "text": [
      "[False False  True False False  True]\n"
     ]
    }
   ],
   "source": [
    "import numpy as np  #isnan used to detect missing values\n",
    "arr=np.array([1,2,np.nan,4,5,np.nan])\n",
    "print(np.isnan(arr))"
   ]
  },
  {
   "cell_type": "code",
   "execution_count": 3,
   "id": "2ef7a76c-38a1-4ba0-9619-41b7a659c301",
   "metadata": {},
   "outputs": [
    {
     "name": "stdout",
     "output_type": "stream",
     "text": [
      "[ 1.  2. 10.  4.  5. 10.]\n"
     ]
    }
   ],
   "source": [
    "import numpy as np    #np.nan_to_num used to replace the values of nan\n",
    "\n",
    "arr=np.array([1,2,np.nan,4,5,np.nan])\n",
    "cleaned_arr=np.nan_to_num(arr,nan=10)\n",
    "print(cleaned_arr)\n"
   ]
  },
  {
   "cell_type": "code",
   "execution_count": 4,
   "id": "1a4de5f8-a8d7-4b37-952a-7ede33bf1c51",
   "metadata": {},
   "outputs": [
    {
     "name": "stdout",
     "output_type": "stream",
     "text": [
      "[1. 2. 0. 4. 5. 0.]\n"
     ]
    }
   ],
   "source": [
    "import numpy as np    #np.nan_to_num used to replace the values of nan\n",
    "\n",
    "arr=np.array([1,2,np.nan,4,5,np.nan])\n",
    "cleaned_arr=np.nan_to_num(arr)\n",
    "print(cleaned_arr)"
   ]
  },
  {
   "cell_type": "code",
   "execution_count": 5,
   "id": "b82b4a0e-17f4-44cd-bf81-201a629f360c",
   "metadata": {},
   "outputs": [
    {
     "name": "stdout",
     "output_type": "stream",
     "text": [
      "[False False  True False False  True]\n"
     ]
    }
   ],
   "source": [
    "import numpy as np  #np.isinf detects if infinite value is present\n",
    "\n",
    "arr=np.array([1,2,np.inf,4,5,-np.inf])\n",
    "\n",
    "print(np.isinf(arr))\n"
   ]
  },
  {
   "cell_type": "code",
   "execution_count": 6,
   "id": "41959e77-9460-4180-bd5b-05b14c48aa10",
   "metadata": {},
   "outputs": [
    {
     "name": "stdout",
     "output_type": "stream",
     "text": [
      "[False False  True False False  True]\n",
      "[  1.   2. 100.   4.   5. 100.]\n"
     ]
    }
   ],
   "source": [
    "import numpy as np  # posinf changes value in at place of positive infinite number same as neginf at negative infinte number\n",
    "\n",
    "arr=np.array([1,2,np.inf,4,5,-np.inf])\n",
    "\n",
    "print(np.isinf(arr))\n",
    "\n",
    "cleaned_arr=np.nan_to_num(arr,posinf=100,neginf=100)\n",
    "print(cleaned_arr)"
   ]
  }
 ],
 "metadata": {
  "kernelspec": {
   "display_name": "Python [conda env:base] *",
   "language": "python",
   "name": "conda-base-py"
  },
  "language_info": {
   "codemirror_mode": {
    "name": "ipython",
    "version": 3
   },
   "file_extension": ".py",
   "mimetype": "text/x-python",
   "name": "python",
   "nbconvert_exporter": "python",
   "pygments_lexer": "ipython3",
   "version": "3.13.5"
  }
 },
 "nbformat": 4,
 "nbformat_minor": 5
}
