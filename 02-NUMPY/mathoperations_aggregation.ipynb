{
 "cells": [
  {
   "cell_type": "code",
   "execution_count": 3,
   "id": "0b483ef4-2b02-4165-a0cd-b097aa37841f",
   "metadata": {},
   "outputs": [
    {
     "name": "stdout",
     "output_type": "stream",
     "text": [
      "[ 6  7  8  9 10 11]\n",
      "[-1  0  1  2  3  4]\n",
      "[ 2  4  6  8 10 12]\n"
     ]
    }
   ],
   "source": [
    "import numpy as np    #Mathematical operations\n",
    "arr=np.array([1,2,3,4,5,6])\n",
    "\n",
    "print(arr+5)\n",
    "print(arr-2)\n",
    "print(arr*2)\n"
   ]
  },
  {
   "cell_type": "code",
   "execution_count": 4,
   "id": "efe6472d-c5aa-46b0-8cd5-689e32846d1f",
   "metadata": {},
   "outputs": [
    {
     "name": "stdout",
     "output_type": "stream",
     "text": [
      "210\n",
      "35.0\n",
      "17.07825127659933\n",
      "10\n",
      "60\n",
      "291.6666666666667\n"
     ]
    }
   ],
   "source": [
    "import numpy as np       # Aggregation Function\n",
    "arr=np.array([10,20,30,40,50,60])\n",
    "print(np.sum(arr))\n",
    "print(np.mean(arr))\n",
    "print(np.std(arr))\n",
    "print(np.min(arr))\n",
    "print(np.max(arr))\n",
    "print(np.var(arr))"
   ]
  }
 ],
 "metadata": {
  "kernelspec": {
   "display_name": "Python [conda env:base] *",
   "language": "python",
   "name": "conda-base-py"
  },
  "language_info": {
   "codemirror_mode": {
    "name": "ipython",
    "version": 3
   },
   "file_extension": ".py",
   "mimetype": "text/x-python",
   "name": "python",
   "nbconvert_exporter": "python",
   "pygments_lexer": "ipython3",
   "version": "3.13.5"
  }
 },
 "nbformat": 4,
 "nbformat_minor": 5
}
