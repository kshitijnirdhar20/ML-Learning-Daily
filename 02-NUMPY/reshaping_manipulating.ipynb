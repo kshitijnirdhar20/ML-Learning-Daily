{
 "cells": [
  {
   "cell_type": "code",
   "execution_count": 1,
   "id": "f80aee02-6256-44d3-82b2-828c0d28e172",
   "metadata": {},
   "outputs": [
    {
     "name": "stdout",
     "output_type": "stream",
     "text": [
      "[[10 20 30]\n",
      " [40 50 60]]\n"
     ]
    }
   ],
   "source": [
    "import numpy as np # RESHAPING\n",
    "arr=np.array([10,20,30,40,50,60])\n",
    "reshaped_arr=arr.reshape(2,3)      #2 ROWS 3 COLUMNS\n",
    "print(reshaped_arr)"
   ]
  },
  {
   "cell_type": "code",
   "execution_count": 10,
   "id": "2dcd8dff-4c60-4cce-ba3b-e23076eaa80f",
   "metadata": {},
   "outputs": [
    {
     "name": "stdout",
     "output_type": "stream",
     "text": [
      "[[1 2]\n",
      " [4 5]]\n",
      "[100   2   4   5]\n"
     ]
    }
   ],
   "source": [
    "import numpy as np      #Flatten it does not affects the original array\n",
    "arr_2d=np.array([[1,2],[4,5]])\n",
    "flat=arr_2d.flatten()\n",
    "flat[0]=100\n",
    "print(arr_2d)\n",
    "print(flat)"
   ]
  },
  {
   "cell_type": "code",
   "execution_count": 12,
   "id": "3d2c9295-c7a1-4e92-a105-06fb1d8f337c",
   "metadata": {},
   "outputs": [
    {
     "name": "stdout",
     "output_type": "stream",
     "text": [
      "[[1 2]\n",
      " [4 5]]\n",
      "[[100   2]\n",
      " [  4   5]]\n",
      "[100   2   4   5]\n"
     ]
    }
   ],
   "source": [
    "import numpy as np     #Ravel it actually affects the original array\n",
    "arr_2d=np.array([[1,2],[4,5]])\n",
    "ravel=arr_2d.ravel()\n",
    "ravel[0]=100\n",
    "print(arr_2d)\n",
    "print(ravel)"
   ]
  }
 ],
 "metadata": {
  "kernelspec": {
   "display_name": "Python [conda env:base] *",
   "language": "python",
   "name": "conda-base-py"
  },
  "language_info": {
   "codemirror_mode": {
    "name": "ipython",
    "version": 3
   },
   "file_extension": ".py",
   "mimetype": "text/x-python",
   "name": "python",
   "nbconvert_exporter": "python",
   "pygments_lexer": "ipython3",
   "version": "3.13.5"
  }
 },
 "nbformat": 4,
 "nbformat_minor": 5
}
